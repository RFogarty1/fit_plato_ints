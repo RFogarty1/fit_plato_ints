{
 "cells": [
  {
   "cell_type": "code",
   "execution_count": null,
   "metadata": {},
   "outputs": [],
   "source": [
    "\"\"\" Code to fit a pair-potential to reproduce a dimer dissociation curve \"\"\""
   ]
  },
  {
   "cell_type": "code",
   "execution_count": null,
   "metadata": {},
   "outputs": [],
   "source": [
    "import itertools as it\n",
    "import os\n",
    "from types import SimpleNamespace\n",
    "\n",
    "import matplotlib.pyplot as plt\n",
    "\n",
    "import plato_pylib.plato.mod_plato_inp_files as modInp\n",
    "import plato_pylib.plato.parse_tbint_files as parseTbint\n",
    "import plato_pylib.utils.job_running_functs as jobRun\n",
    "\n",
    "import plato_fit_integrals.core.coeffs_to_tables as coeffToTab\n",
    "import plato_fit_integrals.core.create_analytical_reprs as analyticFuncts\n",
    "import plato_fit_integrals.core.opt_runner as optRunner\n",
    "import plato_fit_integrals.core.obj_funct_calculator as objFunctCalc\n",
    "import plato_fit_integrals.core.workflow_coordinator as wflowCoord\n",
    "\n",
    "import plato_fit_integrals.initialise.obj_functs_targ_vals as objCmpFuncts\n",
    "import plato_fit_integrals.initialise.create_coeff_tables_converters as createCoeffTabs\n",
    "import plato_fit_integrals.initialise.create_ecurve_workflows as ecurves\n",
    "import plato_fit_integrals.initialise.fit_analytic_to_initial_tables as fitInit\n",
    "\n",
    "import plato_fit_integrals.utils.plot_functs as fitPlotFuncts\n",
    "\n",
    "\n",
    "TEST_SEPS = [x for x in range (2,7)]\n",
    "ATOM_SYMBOL = \"Si\"\n",
    "\n",
    "\n",
    "N_CORES = 6\n",
    "\n",
    "MODEL_DATAFOLDER = \"Test/format_4\"\n",
    "FULL_PATH_MODEL_DATAFOLDER = modInp.getAbsolutePathForPlatoTightBindingDataSet(MODEL_DATAFOLDER)\n",
    "\n",
    "WORK_FOLDER = \"work_folder\"\n",
    "REF_WORK_FOLDER = os.path.join(\"work_folder\",\"ref_calcs\")\n",
    "\n",
    "OUT_ATTR = \"energy_vals\"\n",
    "\n",
    "RUN_REF_JOBS = True\n",
    "\n",
    "#Paramters for the analytic function we use to represent the pair-potential\n",
    "RCUT = parseTbint.getBdtRcut( os.path.join(FULL_PATH_MODEL_DATAFOLDER,\"{}_{}.bdt\".format(ATOM_SYMBOL,ATOM_SYMBOL)) )\n",
    "REF_R0 = 1\n",
    "N_POLY = 5\n",
    "TAIL_DELTA = 0.5\n"
   ]
  },
  {
   "cell_type": "code",
   "execution_count": null,
   "metadata": {},
   "outputs": [],
   "source": []
  },
  {
   "cell_type": "code",
   "execution_count": null,
   "metadata": {},
   "outputs": [],
   "source": [
    "def getModOptsDict():\n",
    "    outDict = dict()\n",
    "    outDict[\"blochstates\"] = [1,1,1]\n",
    "    outDict[\"dataset\"] = MODEL_DATAFOLDER\n",
    "    return outDict"
   ]
  },
  {
   "cell_type": "code",
   "execution_count": null,
   "metadata": {},
   "outputs": [],
   "source": [
    "\n",
    "def createCoeffsToTablesObj():\n",
    "    integHolder = createCoeffTabs.createIntegHolderFromModelFolderPath(FULL_PATH_MODEL_DATAFOLDER)\n",
    "    integInfo = coeffToTab.IntegralTableInfo(FULL_PATH_MODEL_DATAFOLDER, \"pairpot\", ATOM_SYMBOL, ATOM_SYMBOL)\n",
    "    relIntegTable = integHolder.getIntegTableFromInfoObj(integInfo,inclCorrs=False)\n",
    "    aFunct = createAnalyticRepFunct(relIntegTable)\n",
    "    return coeffToTab.CoeffsTablesConverter([aFunct], [integInfo], integHolder)\n",
    "\n",
    "\n",
    "\n",
    "#Want the node to be movable\n",
    "def createAnalyticRepFunct(integTable):\n",
    "    nodePositions = fitInit.findCrossings(integTable.integrals)\n",
    "    valAtR0 = fitInit.getInterpYValGivenXValandInpData(REF_R0,integTable.integrals)\n",
    "    outFunct = analyticFuncts.Cawkwell17ModTailRepr(rCut=RCUT,refR0=REF_R0,valAtR0=valAtR0,\n",
    "                                                                 nPoly=N_POLY, tailDelta=TAIL_DELTA,\n",
    "                                                                 nodePositions=nodePositions)\n",
    "    outFunct.promoteNodePositionsToVariables()\n",
    "    print(\"nodePositions = {}\".format(nodePositions))\n",
    "    return outFunct\n",
    "\n"
   ]
  },
  {
   "cell_type": "code",
   "execution_count": null,
   "metadata": {},
   "outputs": [],
   "source": [
    "def createWorkFlowCoordAndObjFunctCalc(inpGeoms, targEnergies):\n",
    "    workFlow = createWorkFlowDissocCurve(inpGeoms)\n",
    "    objCalculator = createObjFunctCalculator(workFlow, targEnergies)\n",
    "    workFlowCoord = wflowCoord.WorkFlowCoordinator([workFlow])\n",
    "    return workFlowCoord, objCalculator\n",
    "    \n",
    "def createWorkFlowDissocCurve(inpGeoms):\n",
    "    platoCodeStr = \"tb1\"\n",
    "    modOpts = getModOptsDict()\n",
    "    workFlow = ecurves.CreateStructEnergiesWorkFlow(inpGeoms, modOpts, WORK_FOLDER, platoCodeStr, outAttr=OUT_ATTR)()\n",
    "    wflowCoord.decorateWorkFlowWithPrintOutputsEveryNSteps(workFlow)\n",
    "    return workFlow\n",
    "\n",
    "def createObjFunctCalculator(inpWorkFlow,targEnergies):\n",
    "    outCalculator = ecurves.createObjFunctCalculatorFromEcurveWorkflow(inpWorkFlow, targEnergies, \"relrootsqrdev\",averageMethod=\"mean\",\n",
    "                                                                       errorRetVal=1e10)\n",
    "    return outCalculator\n",
    "\n"
   ]
  },
  {
   "cell_type": "code",
   "execution_count": null,
   "metadata": {},
   "outputs": [],
   "source": []
  },
  {
   "cell_type": "code",
   "execution_count": null,
   "metadata": {},
   "outputs": [],
   "source": [
    "#Setup ref calculations\n",
    "inpGeoms = ecurves.createDimerDissocCurveStructs(TEST_SEPS,ATOM_SYMBOL,ATOM_SYMBOL)\n",
    "platoRefStr = \"dft2\"\n",
    "varyType=None\n",
    "\n",
    "refWorkFlow = ecurves.CreateStructEnergiesWorkFlow(inpGeoms,getModOptsDict(), REF_WORK_FOLDER,platoRefStr,outAttr=OUT_ATTR, varyType=varyType) ()\n"
   ]
  },
  {
   "cell_type": "code",
   "execution_count": null,
   "metadata": {},
   "outputs": [],
   "source": [
    "#Run ref calculations\n",
    "if RUN_REF_JOBS:\n",
    "    refRunComms = refWorkFlow.preRunShellComms\n",
    "    jobRun.executeRunCommsParralel(refRunComms, N_CORES)"
   ]
  },
  {
   "cell_type": "code",
   "execution_count": null,
   "metadata": {},
   "outputs": [],
   "source": [
    "#Get the reference energies \n",
    "refWorkFlow.run()\n",
    "refEnergies = getattr( refWorkFlow.output, refWorkFlow.namespaceAttrs[0] ) #Only a sinlge attr"
   ]
  },
  {
   "cell_type": "code",
   "execution_count": null,
   "metadata": {},
   "outputs": [],
   "source": [
    "#Create the actual workflow + other components\n",
    "coeffsToTables = createCoeffsToTablesObj()\n",
    "workFlowCoord, objFunctCalculator = createWorkFlowCoordAndObjFunctCalc(inpGeoms,refEnergies)\n",
    "finalFitObjFunction = optRunner.ObjectiveFunction(coeffsToTables, workFlowCoord, objFunctCalculator)\n"
   ]
  },
  {
   "cell_type": "code",
   "execution_count": null,
   "metadata": {},
   "outputs": [],
   "source": []
  },
  {
   "cell_type": "code",
   "execution_count": null,
   "metadata": {},
   "outputs": [],
   "source": [
    "#Fit coefficients to the initial pair-potential\n",
    "fitResInitInts = fitInit.fitAnalyticFormToStartIntegrals(coeffsToTables,method='Nelder-Mead')\n",
    "\n",
    "\n"
   ]
  },
  {
   "cell_type": "code",
   "execution_count": null,
   "metadata": {},
   "outputs": [],
   "source": [
    "#Plot initial fit to integrals\n",
    "figA = fitPlotFuncts.plotFittedIntsVsInitial(coeffsToTables._integInfo[0],coeffsToTables)\n",
    "figA.get_axes()[0].set_xlim(2,12)\n",
    "figA.get_axes()[0].set_ylim(-0.4,1.0)"
   ]
  },
  {
   "cell_type": "code",
   "execution_count": null,
   "metadata": {},
   "outputs": [],
   "source": [
    "#Get and plot the initial values for the dissociation curve\n",
    "initEnergies = getattr(finalFitObjFunction.workFlowCoordinator.runAndGetPropertyValues(),OUT_ATTR)\n",
    "fitPlotFuncts.plotDissocCurvesInitVsFinal(inpGeoms, refEnergies, initEnergies)\n"
   ]
  },
  {
   "cell_type": "code",
   "execution_count": null,
   "metadata": {},
   "outputs": [],
   "source": []
  },
  {
   "cell_type": "code",
   "execution_count": null,
   "metadata": {},
   "outputs": [],
   "source": [
    "#Fit to the distance vs energy curve\n",
    "fitRes = optRunner.carryOutOptimisationBasicOptions(finalFitObjFunction,method='Nelder-Mead')"
   ]
  },
  {
   "cell_type": "code",
   "execution_count": null,
   "metadata": {},
   "outputs": [],
   "source": [
    "fitRes"
   ]
  },
  {
   "cell_type": "code",
   "execution_count": null,
   "metadata": {},
   "outputs": [],
   "source": []
  },
  {
   "cell_type": "code",
   "execution_count": null,
   "metadata": {},
   "outputs": [],
   "source": [
    "#Plot fitted vs target dissociation energy curve\n",
    "finalEnergies = getattr(fitRes.calcVals,OUT_ATTR)\n",
    "fitPlotFuncts.plotDissocCurvesInitVsFinal(inpGeoms, refEnergies, finalEnergies)"
   ]
  },
  {
   "cell_type": "code",
   "execution_count": null,
   "metadata": {},
   "outputs": [],
   "source": [
    "#Plot Initial vs final integrals\n",
    "figA = fitPlotFuncts.plotFittedIntsVsInitial(coeffsToTables._integInfo[0],coeffsToTables)\n",
    "# figA.get_axes()[0].set_xlim(2,12)\n",
    "# figA.get_axes()[0].set_ylim(-0.4,1.0)"
   ]
  },
  {
   "cell_type": "code",
   "execution_count": null,
   "metadata": {},
   "outputs": [],
   "source": []
  }
 ],
 "metadata": {
  "kernelspec": {
   "display_name": "Python 3",
   "language": "python",
   "name": "python3"
  },
  "language_info": {
   "codemirror_mode": {
    "name": "ipython",
    "version": 3
   },
   "file_extension": ".py",
   "mimetype": "text/x-python",
   "name": "python",
   "nbconvert_exporter": "python",
   "pygments_lexer": "ipython3",
   "version": "3.5.2"
  }
 },
 "nbformat": 4,
 "nbformat_minor": 2
}
