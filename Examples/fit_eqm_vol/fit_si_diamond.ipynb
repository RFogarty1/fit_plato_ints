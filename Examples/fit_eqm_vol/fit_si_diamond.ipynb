{
 "cells": [
  {
   "cell_type": "code",
   "execution_count": null,
   "metadata": {},
   "outputs": [],
   "source": [
    "\"\"\" Code to fit a pair-potential to reproduce a target equilibirum volume for diamond-structure Si;\n",
    "    Note i just picked a target volume randomly - its not a physically meaningful value\n",
    "\"\"\""
   ]
  },
  {
   "cell_type": "code",
   "execution_count": null,
   "metadata": {},
   "outputs": [],
   "source": [
    "import contextlib\n",
    "import copy\n",
    "import os\n",
    "import itertools as it\n",
    "import pathlib\n",
    "from types import SimpleNamespace\n",
    "\n",
    "\n",
    "#import matplotlib.pyplot as plt\n",
    "\n",
    "import plato_pylib.shared.ucell_class as UCell\n",
    "import plato_pylib.plato.mod_plato_inp_files as modInp\n",
    "import plato_pylib.plato.parse_tbint_files as parseTbint\n",
    "import plato_pylib.utils.job_running_functs as jobRun\n",
    "import plato_pylib.utils.fit_eos as fitBMod\n",
    "\n",
    "import plato_fit_integrals.core.coeffs_to_tables as coeffToTab\n",
    "import plato_fit_integrals.core.create_analytical_reprs as analyticFuncts\n",
    "import plato_fit_integrals.core.obj_funct_calculator as objCalculator\n",
    "import plato_fit_integrals.core.opt_runner as optRun\n",
    "import plato_fit_integrals.core.workflow_coordinator as wflowCoord\n",
    "\n",
    "import plato_fit_integrals.initialise.create_coeff_tables_converters as createCoeffTabs\n",
    "import plato_fit_integrals.initialise.fit_analytic_to_initial_tables as fitInit\n",
    "import plato_fit_integrals.initialise.obj_functs_targ_vals as objTargs\n",
    "import plato_fit_integrals.initialise.create_eos_workflows as eosFlow\n",
    "\n",
    "import plato_fit_integrals.utils.plot_functs as fitPlotFuncts\n",
    "\n",
    "MODEL_DATAFOLDER = \"Test/mcweda\"\n",
    "MODEL_DATAFOLDER = \"Test/format_4\"\n",
    "FULL_PATH_MODEL_DATAFOLDER = modInp.getAbsolutePathForPlatoTightBindingDataSet(MODEL_DATAFOLDER)\n",
    "\n",
    "WORK_FOLDER = os.path.abspath(\"work_folder\")\n",
    "WORKFLOW_FOLDER = os.path.join(WORK_FOLDER,\"calc_cubic_v0\")\n",
    "ATOM_SYMBOL = \"Si\"\n",
    "\n",
    "TEST_VOL_PER_ATOM = [140, 150, 160, 170, 180, 190, 200, 210, 220]\n",
    "K_POINTS = [10,10,10]\n",
    "\n",
    "TARGET_V0 = 190 #Target value for the full primivitve cell\n",
    "EOS=\"murnaghan\"\n",
    "\n",
    "FIT_PROPERTY = \"v0\"\n",
    "FIT_STRUCTURE = \"diamond\"\n",
    "\n",
    "NUMB_CORES = 6\n",
    "\n",
    "PROG_STR = \"tb1\"\n",
    "\n",
    "#Paramters for the analytic function we use to represent the pair-potential\n",
    "RCUT = parseTbint.getBdtRcut( os.path.join(FULL_PATH_MODEL_DATAFOLDER,\"{}_{}.bdt\".format(ATOM_SYMBOL,ATOM_SYMBOL)) )\n",
    "REF_R0 = 1.0\n",
    "N_POLY = 3\n",
    "TAIL_DELTA = 0.5\n",
    "\n",
    "\n",
    "\n"
   ]
  },
  {
   "cell_type": "code",
   "execution_count": null,
   "metadata": {},
   "outputs": [],
   "source": []
  },
  {
   "cell_type": "code",
   "execution_count": null,
   "metadata": {},
   "outputs": [],
   "source": [
    "#Create the initial structures\n",
    "\n",
    "def createTestStructs(atomSymbol,testVols):\n",
    "    fractCoords = [ [0.0, 0.0, 0.0, atomSymbol],\n",
    "                    [0.25, 0.25, 0.25, atomSymbol] ]\n",
    "    \n",
    "    lattVects = [ [2.6954645, 2.6954645, 0.0      ],\n",
    "                  [2.6954645, 0.0      , 2.6954645],\n",
    "                  [0.0      , 2.6954645, 2.6954645] ]\n",
    "    \n",
    "    basicUCell = UCell.UnitCell.fromLattVects(lattVects, fractCoords = fractCoords)\n",
    "\n",
    "    outCells = list()\n",
    "    for currVol in testVols:\n",
    "        currUCell = copy.deepcopy(basicUCell)\n",
    "        currUCell.volume = currVol*len(fractCoords)\n",
    "        outCells.append( currUCell )\n",
    "    \n",
    "    return outCells\n",
    "\n"
   ]
  },
  {
   "cell_type": "code",
   "execution_count": null,
   "metadata": {},
   "outputs": [],
   "source": [
    "def createCoeffsToTablesObj():\n",
    "    integHolder = createCoeffTabs.createIntegHolderFromModelFolderPath(FULL_PATH_MODEL_DATAFOLDER)\n",
    "    integInfo = coeffToTab.IntegralTableInfo(FULL_PATH_MODEL_DATAFOLDER, \"pairpot\", ATOM_SYMBOL, ATOM_SYMBOL)\n",
    "    relIntegTable = integHolder.getIntegTableFromInfoObj(integInfo,inclCorrs=False)\n",
    "    aFunct = createAnalyticRepFunct(relIntegTable)\n",
    "    return coeffToTab.CoeffsTablesConverter([aFunct], [integInfo], integHolder)\n",
    "    \n",
    "\n",
    "#Want the node to be movable\n",
    "def createAnalyticRepFunct(integTable):\n",
    "    nodePositions = fitInit.findCrossings(integTable.integrals)\n",
    "    valAtR0 = fitInit.getInterpYValGivenXValandInpData(REF_R0,integTable.integrals)\n",
    "    outFunct = analyticFuncts.Cawkwell17ModTailRepr_nodePosAsVars(rCut=RCUT,refR0=REF_R0,valAtR0=valAtR0,\n",
    "                                                                 nPoly=N_POLY, tailDelta=TAIL_DELTA,\n",
    "                                                                 nodePositions=nodePositions)\n",
    "    print(\"nodePositions = {}\".format(nodePositions))\n",
    "    return outFunct\n",
    "    \n",
    "    \n"
   ]
  },
  {
   "cell_type": "code",
   "execution_count": null,
   "metadata": {},
   "outputs": [],
   "source": [
    "def createObjFunctCalculator():\n",
    "    targValue = TARGET_V0\n",
    "    outCalculator = eosFlow.EosObjFunctCalculator.createEmptyInstance()\n",
    "    outCalculator.addProp(FIT_STRUCTURE,FIT_PROPERTY,targValue)\n",
    "    return outCalculator\n",
    "\n",
    "\n"
   ]
  },
  {
   "cell_type": "code",
   "execution_count": null,
   "metadata": {},
   "outputs": [],
   "source": [
    "def createWorkflowToGetV0():\n",
    "    structKey = FIT_STRUCTURE\n",
    "    structs = {structKey:createTestStructs(ATOM_SYMBOL, TEST_VOL_PER_ATOM)} \n",
    "    optDict = dict()\n",
    "    optDict[\"BlochStates\".lower()] = K_POINTS\n",
    "    optDict[\"dataset\"] = MODEL_DATAFOLDER\n",
    "    modOptsDicts = {structKey:optDict}\n",
    "    nonE0EnergyDict = eosFlow.calcNonE0EnergyDict(structs, modOptsDicts, WORKFLOW_FOLDER, PROG_STR,nCores=NUMB_CORES)\n",
    "    wFlow = eosFlow.CreateEosWorkFlow(structs, modOptsDicts, WORKFLOW_FOLDER, PROG_STR,eosModel=EOS,\n",
    "                                      onlyCalcE0=True, nonE0EnergyDict=nonE0EnergyDict)()\n",
    "    eosFlow.decorateEosWorkFlowWithPrintOutputsEveryNSteps(wFlow,printInterval=10)\n",
    "    return wflowCoord.WorkFlowCoordinator([wFlow],nCores=NUMB_CORES)\n",
    "\n",
    "\n",
    "\n"
   ]
  },
  {
   "cell_type": "code",
   "execution_count": null,
   "metadata": {},
   "outputs": [],
   "source": []
  },
  {
   "cell_type": "code",
   "execution_count": null,
   "metadata": {},
   "outputs": [],
   "source": [
    "#Create the objective function for the main fit\n",
    "coeffsToTablesObj = createCoeffsToTablesObj()\n",
    "objFunctCalculator = createObjFunctCalculator()\n",
    "workflowCoordForV0 = createWorkflowToGetV0()\n",
    "mainObjFunct = optRun.ObjectiveFunction(coeffsToTablesObj, workflowCoordForV0, objFunctCalculator)"
   ]
  },
  {
   "cell_type": "code",
   "execution_count": null,
   "metadata": {},
   "outputs": [],
   "source": []
  },
  {
   "cell_type": "code",
   "execution_count": null,
   "metadata": {},
   "outputs": [],
   "source": [
    "#Fit coefficients to the initial pair-potential\n",
    "fitResInitInts = fitInit.fitAnalyticFormToStartIntegrals(coeffsToTablesObj,method='Nelder-Mead')\n"
   ]
  },
  {
   "cell_type": "code",
   "execution_count": null,
   "metadata": {},
   "outputs": [],
   "source": []
  },
  {
   "cell_type": "code",
   "execution_count": null,
   "metadata": {},
   "outputs": [],
   "source": [
    "figA = fitPlotFuncts.plotFittedIntsVsInitial(coeffsToTablesObj._integInfo[0],coeffsToTablesObj)\n",
    "figA.get_axes()[0].set_xlim(2,12)\n",
    "figA.get_axes()[0].set_ylim(-0.4,1.0)"
   ]
  },
  {
   "cell_type": "code",
   "execution_count": null,
   "metadata": {},
   "outputs": [],
   "source": [
    "coeffsToTablesObj._analyticalReps[0]"
   ]
  },
  {
   "cell_type": "code",
   "execution_count": null,
   "metadata": {},
   "outputs": [],
   "source": []
  },
  {
   "cell_type": "code",
   "execution_count": null,
   "metadata": {
    "scrolled": false
   },
   "outputs": [],
   "source": [
    "#Run the main fit\n",
    "mainFitRes = optRun.carryOutOptimisationBasicOptions(mainObjFunct,method='Nelder-Mead')"
   ]
  },
  {
   "cell_type": "code",
   "execution_count": null,
   "metadata": {
    "scrolled": true
   },
   "outputs": [],
   "source": [
    "mainFitRes"
   ]
  },
  {
   "cell_type": "code",
   "execution_count": null,
   "metadata": {},
   "outputs": [],
   "source": [
    "#Fitted Vs orig.\n",
    "figB = fitPlotFuncts.plotFittedIntsVsInitial(coeffsToTablesObj._integInfo[0],mainObjFunct.coeffTableConverter)\n",
    "figB.get_axes()[0].set_xlim(2,12)\n",
    "figB.get_axes()[0].set_ylim(-0.4,1.0)"
   ]
  },
  {
   "cell_type": "code",
   "execution_count": null,
   "metadata": {},
   "outputs": [],
   "source": []
  }
 ],
 "metadata": {
  "kernelspec": {
   "display_name": "Python 3",
   "language": "python",
   "name": "python3"
  },
  "language_info": {
   "codemirror_mode": {
    "name": "ipython",
    "version": 3
   },
   "file_extension": ".py",
   "mimetype": "text/x-python",
   "name": "python",
   "nbconvert_exporter": "python",
   "pygments_lexer": "ipython3",
   "version": "3.5.2"
  }
 },
 "nbformat": 4,
 "nbformat_minor": 2
}
