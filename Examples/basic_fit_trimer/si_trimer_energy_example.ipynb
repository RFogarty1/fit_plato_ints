{
 "cells": [
  {
   "cell_type": "code",
   "execution_count": null,
   "metadata": {},
   "outputs": [],
   "source": [
    "\"\"\" Fit a pair potential such that 2-centre tight binding can reproduce the energy of a Si trimer\n",
    "    (Contrived example to keep things as simple as possible)\n",
    "\"\"\""
   ]
  },
  {
   "cell_type": "code",
   "execution_count": null,
   "metadata": {},
   "outputs": [],
   "source": [
    "import os\n",
    "import pathlib\n",
    "from types import SimpleNamespace\n",
    "\n",
    "import matplotlib.pyplot as plt\n",
    "\n",
    "import plato_pylib.shared.ucell_class as UCell\n",
    "import plato_pylib.plato.mod_plato_inp_files as modInp\n",
    "import plato_pylib.utils.job_running_functs as jobRun\n",
    "import plato_pylib.plato.parse_plato_out_files as parsePlato\n",
    "import plato_pylib.plato.parse_tbint_files as parseTbint\n",
    "\n",
    "import plato_fit_integrals.core.workflow_coordinator as wFlow\n",
    "import plato_fit_integrals.core.obj_funct_calculator as objFunctCalc\n",
    "import plato_fit_integrals.core.create_analytical_reprs as analyticFuncts\n",
    "import plato_fit_integrals.core.coeffs_to_tables as coeffsToTables\n",
    "import plato_fit_integrals.core.opt_runner as optRunner\n",
    "\n",
    "import plato_fit_integrals.initialise.fit_analytic_to_initial_tables as fitInit\n",
    "import plato_fit_integrals.initialise.obj_functs_targ_vals as objFuncts\n",
    "\n",
    "#Relative path passed to plato in \"dataset\" keyword\n",
    "MODEL_DATAFOLDER = \"Test/format_4\"\n",
    "FULL_PATH_MODEL_DATAFOLDER = modInp.getAbsolutePathForPlatoTightBindingDataSet(MODEL_DATAFOLDER)\n",
    "\n",
    "WORK_FOLDER = os.path.abspath(\"work_folder\")\n",
    "ATOM_SYMBOL = \"Si\"\n",
    "N_CORES = 1\n",
    "ENERGY_PROP_STR = \"trimerEnergy\"\n",
    "\n",
    "#TODO: Will pull these parameters directly from the relevant files;\n",
    "R_CUT = parseTbint.getBdtRcut( os.path.join(FULL_PATH_MODEL_DATAFOLDER,\"{}_{}.bdt\".format(ATOM_SYMBOL,ATOM_SYMBOL)) ) \n",
    "REF_R0 = 1.0\n",
    "N_POLY = 3\n",
    "TAIL_DELTA = 0.5\n",
    "\n"
   ]
  },
  {
   "cell_type": "code",
   "execution_count": null,
   "metadata": {},
   "outputs": [],
   "source": [
    "#Create Trimer geometry\n",
    "def createTrimerGeometry(atomSymbol):\n",
    "    boxLength = 50\n",
    "    lattVects = [ [boxLength, 0.0      , 0.0      ],\n",
    "                  [0.0      , boxLength, 0.0      ],\n",
    "                  [0.0      , 0.0      , boxLength] ]\n",
    "    \n",
    "    fractCoords = [[0.5, 0.5, 0.46,  atomSymbol],\n",
    "                   [0.5, 0.5, 0.54,  atomSymbol],\n",
    "                   [0.5, 0.5992156741649222, 0.5275, atomSymbol]]\n",
    "    \n",
    "    outGeom = UCell.UnitCell.fromLattVects(lattVects, fractCoords=fractCoords)\n",
    "    return outGeom\n",
    "    \n"
   ]
  },
  {
   "cell_type": "code",
   "execution_count": null,
   "metadata": {},
   "outputs": [],
   "source": [
    "#Get a dictionary representing plato dft2 file for the trimer of interest\n",
    "def getRefDft2Dict(atomSymbol):\n",
    "    dft2FileDict = modInp.getDefOptDict(\"dft2\")\n",
    "    dft2FileDict[\"integralmeshspacing\"] = [50,50,50]\n",
    "    dft2FileDict[\"dataset\"] = MODEL_DATAFOLDER\n",
    "    outDict = modInp.getStrDictFromOptDict(dft2FileDict,\"dft2\")\n",
    "    geomSection = modInp.getPlatoGeomDictFromUnitCell( createTrimerGeometry(atomSymbol) )\n",
    "    outDict.update(geomSection)\n",
    "    return outDict\n"
   ]
  },
  {
   "cell_type": "code",
   "execution_count": null,
   "metadata": {},
   "outputs": [],
   "source": [
    "# Create a workflow object, when run() is called it needs to populate the required fields\n",
    "class WorkFlowTrimerEnergyTwoBodyTB(wFlow.WorkFlowBase):\n",
    "    \n",
    "    def __init__(self):\n",
    "        pass #Everything is hard-coded into this class\n",
    "\n",
    "    @property\n",
    "    def namespaceAttrs(self):\n",
    "        return [ENERGY_PROP_STR]\n",
    "    \n",
    "    @property\n",
    "    def workFolder(self):\n",
    "        return WORK_FOLDER\n",
    "    \n",
    "    def run(self):\n",
    "        #Create file\n",
    "        inpPath = os.path.join(self.workFolder,\"trimer_tb1_calc.in\")\n",
    "        outDict = getTrimerOutDictTb1Calc(ATOM_SYMBOL)\n",
    "        modInp.writePlatoOutFileFromDict(inpPath,outDict)\n",
    "        \n",
    "        #Run calc\n",
    "        runComms = jobRun.pathListToPlatoRunComms([inpPath],\"tb1\")\n",
    "        jobRun.executeRunCommsParralel(runComms,1,quiet=True)\n",
    "\n",
    "        #Get energy and clean up\n",
    "        outPath = inpPath.replace(\".in\",\".out\")\n",
    "        cohesiveE = parsePlato.parsePlatoOutFile(outPath)[\"energies\"].electronicCohesiveE\n",
    "        self.output = SimpleNamespace(trimerEnergy=cohesiveE)\n",
    "        os.remove(outPath)\n",
    "    \n",
    "def getTrimerOutDictTb1Calc(atomSymbol):\n",
    "    #Create the input file\n",
    "    tb1FileDict = modInp.getDefOptDict(\"tb1\")\n",
    "    tb1FileDict[\"dataset\"] = MODEL_DATAFOLDER\n",
    "    tb1FileDict[\"addcorrectingppfrombdt\"] = 1\n",
    "    outDict = modInp.getStrDictFromOptDict(tb1FileDict,\"tb1\")\n",
    "    outDict[\"cellrepeat\"] = \"0 0 0\"\n",
    "    geomSection = modInp.getPlatoGeomDictFromUnitCell( createTrimerGeometry(atomSymbol) )\n",
    "    outDict.update(geomSection)\n",
    "    return outDict\n",
    "\n",
    "\n",
    "\n"
   ]
  },
  {
   "cell_type": "code",
   "execution_count": null,
   "metadata": {},
   "outputs": [],
   "source": [
    "# Create a folder to do all calculations in \n",
    "pathlib.Path(WORK_FOLDER).mkdir(exist_ok=True,parents=True)"
   ]
  },
  {
   "cell_type": "code",
   "execution_count": null,
   "metadata": {},
   "outputs": [],
   "source": [
    "#Step 1 is to generate the reference cohesive energy from dft2 (which accounts for all 3-b effects)\n",
    "\n",
    "#write the input file\n",
    "refFileDict = getRefDft2Dict(ATOM_SYMBOL)\n",
    "refOutPath = os.path.join(WORK_FOLDER, \"ref_trimer.in\")\n",
    "modInp.writePlatoOutFileFromDict(refOutPath, refFileDict)\n",
    "\n",
    "#Run the job\n",
    "runComms = jobRun.pathListToPlatoRunComms([refOutPath],\"dft2\")\n",
    "jobRun.executeRunCommsParralel(runComms,N_CORES)\n",
    "\n",
    "#Get the energy out\n",
    "REF_COH_ENERGY = parsePlato.parsePlatoOutFile(refOutPath.replace(\".in\",\".out\"))[\"energies\"].electronicCohesiveE\n",
    "\n",
    "print(\"The reference energy is {} Ry\".format(REF_COH_ENERGY))"
   ]
  },
  {
   "cell_type": "code",
   "execution_count": null,
   "metadata": {},
   "outputs": [],
   "source": [
    "#Step 2 = Create a workflow co-ordinator to run all jobs and parse all outputs during the optimisation\n",
    "workflowCoordinator = wFlow.WorkFlowCoordinator( [WorkFlowTrimerEnergyTwoBodyTB()] )\n",
    "\n"
   ]
  },
  {
   "cell_type": "code",
   "execution_count": null,
   "metadata": {},
   "outputs": [],
   "source": [
    "#Step 3 = Define the objective function to use, in terms of properties for which one of the workflows can calculate\n",
    "# This turns calculated properties into a value which we want to minimise\n",
    "singlePropObjFunct = objFuncts.createSimpleTargValObjFunction(\"msd\")\n",
    "propsWithObjFunct = SimpleNamespace( **{ENERGY_PROP_STR:(REF_COH_ENERGY,singlePropObjFunct)} )\n",
    "objFunctCalculator = objFunctCalc.ObjectiveFunctionContrib(propsWithObjFunct)"
   ]
  },
  {
   "cell_type": "code",
   "execution_count": null,
   "metadata": {},
   "outputs": [],
   "source": [
    "#Step 4 = Attach an analytical functional form to each integral that we fit\n",
    "integralInfo = coeffsToTables.IntegralTableInfo(FULL_PATH_MODEL_DATAFOLDER, \"pairPot\", atomA=ATOM_SYMBOL, atomB=ATOM_SYMBOL)\n",
    "startTables = parseTbint.getIntegralsFromBdt(integralInfo.filePath)\n",
    "integHolder = coeffsToTables.IntegralsHolder( [(ATOM_SYMBOL,ATOM_SYMBOL)], [startTables])\n",
    "\n",
    "#Create base analytic function\n",
    "ppAnalyticFunct = analyticFuncts.Cawkwell17ModTailRepr(rCut=R_CUT, refR0=REF_R0, valAtR0=1,\n",
    "                                                       tailDelta=TAIL_DELTA, nPoly=N_POLY)\n",
    "\n",
    "#Need to attach the node-values to our analytical repr\n",
    "startData = integHolder.getIntegTable(\"pairPot\", ATOM_SYMBOL, ATOM_SYMBOL, inclCorrs=False)\n",
    "nodeValues = fitInit.findCrossings(startData.integrals)\n",
    "ppAnalyticFunct.nodePositions = nodeValues\n",
    "ppAnalyticFunct.valAtR0 = fitInit.getInterpYValGivenXValandInpData(REF_R0,startData.integrals)\n",
    "\n",
    "coeffsTablesConverter = coeffsToTables.CoeffsTablesConverter([ppAnalyticFunct], [integralInfo], integHolder)\n"
   ]
  },
  {
   "cell_type": "code",
   "execution_count": null,
   "metadata": {},
   "outputs": [],
   "source": [
    "#Step 5 = Get the initial parameters to represent our integrals, we do this by fitting to the starting tabulated values\n",
    "fitRes = fitInit.fitAnalyticFormToStartIntegrals(coeffsTablesConverter, intIdx=0)\n",
    "\n",
    "print(fitRes.optRes)"
   ]
  },
  {
   "cell_type": "code",
   "execution_count": null,
   "metadata": {},
   "outputs": [],
   "source": [
    "#Step 7 = Check out well we fit our initial values\n",
    "fittedData = integHolder.getIntegTable(\"pairPot\", ATOM_SYMBOL, ATOM_SYMBOL)\n",
    "\n",
    "figA = plt.figure()\n",
    "ax1 = figA.add_subplot(1,1,1)\n",
    "ax1.plot(startData.integrals[:,0], startData.integrals[:,1])\n",
    "ax1.plot(fittedData.integrals[:,0], fittedData.integrals[:,1])\n"
   ]
  },
  {
   "cell_type": "code",
   "execution_count": null,
   "metadata": {},
   "outputs": [],
   "source": [
    "#Step 8 = Run the actual optimisation\n",
    "objFunct = optRunner.ObjectiveFunction(coeffsTablesConverter, workflowCoordinator, objFunctCalculator)\n",
    "fitRes = optRunner.carryOutOptimisationBasicOptions(objFunct)\n",
    "\n",
    "print(fitRes.calcVals)"
   ]
  },
  {
   "cell_type": "code",
   "execution_count": null,
   "metadata": {},
   "outputs": [],
   "source": [
    "#Plot the new funcitonal form (which should be nearly unchanged)\n",
    "fittedData = integHolder.getIntegTable(\"pairPot\", ATOM_SYMBOL, ATOM_SYMBOL)\n",
    "\n",
    "figA = plt.figure()\n",
    "ax1 = figA.add_subplot(1,1,1)\n",
    "ax1.plot(startData.integrals[:,0], startData.integrals[:,1])\n",
    "ax1.plot(fittedData.integrals[:,0], fittedData.integrals[:,1])\n"
   ]
  },
  {
   "cell_type": "code",
   "execution_count": null,
   "metadata": {},
   "outputs": [],
   "source": []
  },
  {
   "cell_type": "code",
   "execution_count": null,
   "metadata": {},
   "outputs": [],
   "source": []
  }
 ],
 "metadata": {
  "kernelspec": {
   "display_name": "Python 3",
   "language": "python",
   "name": "python3"
  },
  "language_info": {
   "codemirror_mode": {
    "name": "ipython",
    "version": 3
   },
   "file_extension": ".py",
   "mimetype": "text/x-python",
   "name": "python",
   "nbconvert_exporter": "python",
   "pygments_lexer": "ipython3",
   "version": "3.5.2"
  }
 },
 "nbformat": 4,
 "nbformat_minor": 2
}
